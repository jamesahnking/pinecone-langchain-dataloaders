{
 "cells": [
  {
   "cell_type": "markdown",
   "metadata": {},
   "source": [
    "## ```.docx``` Pinecone/Langchain dataloader and splitter\n",
    "\n",
    "1. Create ```/docxs``` directory then place all .docx files inside \n",
    "2. Run app and all ```/docxs``` files within the directory will be loaded into your vector store\n",
    "3. Use helper function to delete your pinecone index \n",
    "4. Use Chat functions to test\n",
    "5. Trace using LangServe\n",
    "---\n",
    "\n",
    "### Directory Structure \n",
    "\n",
    "```\n",
    "├── pinecone-langchain-docx-dataloader.ipynb\n",
    "├── docxs\n",
    "│   ├── client_file_01.docx\n",
    "│   ├── client_file_02.docx\n",
    "│   ├── client_file_03.docx\n",
    "\n"
   ]
  },
  {
   "cell_type": "markdown",
   "metadata": {},
   "source": [
    "1. ```check_and_load_docx_from_dir``` : checks directory for files,loads documents with the ```Docx2txtLoader```, then splits the docs with langchains ```RecursiveCharacterTextSplitter```."
   ]
  },
  {
   "cell_type": "code",
   "execution_count": null,
   "metadata": {},
   "outputs": [],
   "source": [
    "! pip install --upgrade --quiet  docx2txt\n",
    "! pip install langchain\n",
    "! pip install tiktoken\n",
    "! pip install pinecone-client"
   ]
  },
  {
   "cell_type": "code",
   "execution_count": 2,
   "metadata": {},
   "outputs": [
    {
     "name": "stdout",
     "output_type": "stream",
     "text": [
      "Heres the list of all .docx files within the docxs directory: ['Trasaterra_not_marketing_company.docx', 'wdttd.docx']\n"
     ]
    },
    {
     "data": {
      "text/plain": [
       "[Document(page_content='Trasaterra Is Not a Marketing Company !\\n\\n\\n\\nTrasaterra is not a marketing company. It is a design agency that specializes in branding, comprehensive design services, and both web design and development. Additionally, Trasaterra can include content creation as a component of its core offerings when necessary. But content creation is not part of its core offering.', metadata={'source': 'docxs/Trasaterra_not_marketing_company.docx'}),\n",
       " Document(page_content='What does trasaterra do? \\n\\n\\n\\n\\n\\nTrasaterra is a New York City-based design studio founded in 2010 by Ewa Orzech and Jason Paul Guzman, leverages a combined wealth of branding, design and digital expertise to craft transformative, refined, and forthright creative solutions for a diverse range of clients across media, art, finance, non-profit, and technology industries.\\n\\n\\n\\nTrasaterra\\xa0creates\\xa0work that\\xa0attracts,\\xa0converts,\\xa0engages\\xa0and\\xa0retains\\xa0Client audiences\\n\\nOur core value is authenticity. People respond to messages that are true. Leveraging accurate brand personality creates an opportunity to forge meaningful connections with audiences. With Trasaterra navigating your identity, you engage decades of experience discovering and leveraging brand authenticity. We apply powerful foundational methodology to create deliverables fine-tuned to attract audiences to your brand.\\n\\n\\n\\nTrasaterra Branding\\n\\n\\n\\nAuthentic identity results in magnetic impact\\n\\nLogos\\n\\nNaming\\n\\nBrand books & identity systems', metadata={'source': 'docxs/wdttd.docx'}),\n",
       " Document(page_content='Authentic identity results in magnetic impact\\n\\nLogos\\n\\nNaming\\n\\nBrand books & identity systems\\n\\nIdentity collateral\\n\\nMessaging\\n\\n\\n\\n\\n\\nWe leverage two decades of brand craft, we translate our methodology for uncovering the truest and best of your brand into tangible, “magnetic” identity. Identity is expressed in logos, messaging, brand books, digital assets, websites and collateral—all of which we deliver. Your true brand,\\xa0the deep brand, resides in the minds of your audience and employees. The most magnetic brands radiate authenticity. Come on the journey with us to find your\\xa0real\\xa0brand.\\n\\n\\n\\nTrasaterra Design\\n\\n\\n\\nBusiness Collateral\\n\\nInfographics & iconography\\n\\nPresentation Design\\n\\nSocial Media Graphics\\n\\nMotion graphics', metadata={'source': 'docxs/wdttd.docx'}),\n",
       " Document(page_content='Infographics & iconography\\n\\nPresentation Design\\n\\nSocial Media Graphics\\n\\nMotion graphics\\n\\n\\n\\nClient design materials perform best when the personalities of their audiences are understood in relation to the brand. The partners of Trasaterra have specialized in high-end design for well over two decades. We apply the same kinds of strategies we utilize to create identities, purposed for targeted business collateral. Tell us your communication goals so we can design materials for you that will attract, convert, engage and retain your audiences.\\n\\nTrasaterra Web Design\\n\\nYour brand centerpiece for audience attraction\\n\\nWebsite design\\n\\nWebsite development\\n\\nUser experience & site architecture\\n\\nE-commerce\\n\\nE-mail Campaigns\\n\\nSite Maintenance\\n\\nSEO', metadata={'source': 'docxs/wdttd.docx'}),\n",
       " Document(page_content='User experience & site architecture\\n\\nE-commerce\\n\\nE-mail Campaigns\\n\\nSite Maintenance\\n\\nSEO\\n\\nYour website presents the greatest opportunity to attract an audience because it is the best platform to communicate your authentic brand. We apply our comprehensive interaction expertise to produce high performing websites utilizing the same strategies that power our branding and design work. Have us transform your website into an audience bonding experience.s', metadata={'source': 'docxs/wdttd.docx'})]"
      ]
     },
     "execution_count": 2,
     "metadata": {},
     "output_type": "execute_result"
    }
   ],
   "source": [
    "# DOCX - Check Path ald Load .docx\n",
    "\n",
    "import os\n",
    "from langchain_community.document_loaders.word_document import Docx2txtLoader\n",
    "from langchain_text_splitters import RecursiveCharacterTextSplitter\n",
    "\n",
    "\n",
    "def check_and_load_docx_from_dir(directory):\n",
    "    # Ensure the directory path exists\n",
    "    if not os.path.exists(directory):\n",
    "        print(\"Directory does not exist.\")\n",
    "        return False\n",
    "\n",
    "    # Check if directory is actually a directory\n",
    "    if not os.path.isdir(directory):\n",
    "        print(\"The specified path is not a directory.\")\n",
    "        return False\n",
    "\n",
    "    # List all files in the directory\n",
    "    all_files = os.listdir(directory)\n",
    "    print(f'Heres the list of all .docx files within the {directory} directory: {all_files}')\n",
    "    \n",
    "    # Check if each file ends with .docx\n",
    "    for file in all_files:\n",
    "        if not file.endswith(\".docx\"):\n",
    "            print(f\"Non-DOCX file found: {file}\")\n",
    "            return False\n",
    "    \n",
    "    # load directory path\n",
    "    directory_path = directory \n",
    "    # add list comprehension for file os.path.join usage\n",
    "    docx_files = [f for f in all_files if f.endswith(\".docx\")]\n",
    "    # Create emptly list container\n",
    "    documents = []\n",
    "    # Loop through the directory, bundle and load docx files. \n",
    "    for docx_file in docx_files:\n",
    "        file_path = os.path.join(directory_path, docx_file)\n",
    "        loader = Docx2txtLoader(file_path)\n",
    "        documents.extend(loader.load())\n",
    "\n",
    "    # Split text\n",
    "    text_splitter = RecursiveCharacterTextSplitter( \n",
    "        chunk_size=1000,  # Maximum size of each chunk\n",
    "        chunk_overlap=100,  # Number of overlapping characters between chunks\n",
    "        )\n",
    "    \n",
    "    # Create empty list to hold chunks\n",
    "    chunks = []\n",
    "\n",
    "    # Split and add to the list\n",
    "    for document in documents:\n",
    "        chunks.extend(text_splitter.split_documents([document]))  \n",
    "        \n",
    "    return chunks\n",
    "\n",
    "chunks = check_and_load_docx_from_dir('docxs')\n",
    "\n",
    "chunks\n",
    "\n",
    "\n",
    "# Usage example\n",
    "# directory_path = 'docxs'\n",
    "# check_and_load_docx_from_dir(directory_path)"
   ]
  },
  {
   "cell_type": "markdown",
   "metadata": {},
   "source": [
    "2. ```calculate_and_display_embedding_cost```: calculate embedding cost using using tiktoken\n",
    "- https://github.com/openai/openai-cookbook/blob/main/examples/How_to_count_tokens_with_tiktoken.ipynb"
   ]
  },
  {
   "cell_type": "code",
   "execution_count": 3,
   "metadata": {},
   "outputs": [
    {
     "name": "stdout",
     "output_type": "stream",
     "text": [
      "Token Amount: 631\n",
      "Embedding Cost in USD:0.000252\n"
     ]
    }
   ],
   "source": [
    "# How much it costs to embed\n",
    "def calculate_and_display_embedding_cost(texts):\n",
    "    import tiktoken\n",
    "    enccoding = tiktoken.encoding_for_model(\"gpt-3.5-turbo\")\n",
    "    total_tokens = sum([len(enccoding.encode(page.page_content)) for page in texts])\n",
    "    print(f'Token Amount: {total_tokens}')\n",
    "    print(f'Embedding Cost in USD:{total_tokens / 1000 * 0.0004:.6f}')\n",
    "\n",
    "calculate_and_display_embedding_cost(chunks)"
   ]
  },
  {
   "cell_type": "markdown",
   "metadata": {},
   "source": [
    "3. Create and delete pinecone index functions\n",
    "- ```delete_index_with_same_name```: deletes pincone index of the same name \n",
    "- ```load_or_create_embeddings_index```: If the index already exists it will just load data. If the idex is brand new it will create an then load the data. "
   ]
  },
  {
   "cell_type": "code",
   "execution_count": 4,
   "metadata": {},
   "outputs": [
    {
     "name": "stderr",
     "output_type": "stream",
     "text": [
      "/Users/jamesahnking/.pyenv/versions/3.11.8/envs/trasbotv0.1_env/lib/python3.11/site-packages/pinecone/data/index.py:1: TqdmWarning: IProgress not found. Please update jupyter and ipywidgets. See https://ipywidgets.readthedocs.io/en/stable/user_install.html\n",
      "  from tqdm.autonotebook import tqdm\n"
     ]
    }
   ],
   "source": [
    "from pinecone import Pinecone, ServerlessSpec\n",
    "from langchain_openai import OpenAIEmbeddings\n",
    "from langchain_pinecone import PineconeVectorStore\n",
    "import time\n",
    "\n",
    "pc = Pinecone(\n",
    "    api_key=os.environ.get(\"PINECONE_API_KEY\") or 'PINECONE_API_KEY'\n",
    ")\n",
    "\n",
    "def delete_index_with_same_name(index_name): \n",
    "    \n",
    "    # Delete index if any indexes of the same name are present\n",
    "    if index_name in pc.list_indexes().names():\n",
    "        print(f'Deleting the {index_name} vector database')\n",
    "        pc.delete_index(index_name)\n",
    "\n",
    "\n",
    "def load_or_create_embeddings_index(index_name, chunks, namespace):\n",
    "    \n",
    "    if index_name in pc.list_indexes().names():\n",
    "        print(f'Index {index_name} already exists. Loading embeddings...', end='')\n",
    "        vector_store = PineconeVectorStore.from_documents(\n",
    "        documents=chunks, embedding=OpenAIEmbeddings(), index_name=index_name, namespace=namespace)\n",
    "        \n",
    "        while not pc.describe_index(index_name).status['ready']:\n",
    "            time.sleep(1)\n",
    "        \n",
    "        print('Done')\n",
    "    else:\n",
    "        print(f'Creating index {index_name} and embeddings ...', end = '')\n",
    "        pc.create_index(name=index_name, dimension=1536, metric='cosine',  spec=ServerlessSpec(\n",
    "                cloud='aws',\n",
    "                region='us-west-2'\n",
    "            ))\n",
    "        \n",
    "        while not pc.describe_index(index_name).status['ready']:\n",
    "            time.sleep(1)\n",
    "        # Add to vectorDB using LangChain \n",
    "        vector_store = PineconeVectorStore.from_documents(\n",
    "        documents=chunks, embedding=OpenAIEmbeddings(), index_name=index_name, namespace=namespace)\n",
    "        print('Done')   \n",
    "    return vector_store"
   ]
  },
  {
   "cell_type": "markdown",
   "metadata": {},
   "source": [
    "4. Create your index and load all data. "
   ]
  },
  {
   "cell_type": "code",
   "execution_count": 5,
   "metadata": {},
   "outputs": [
    {
     "name": "stdout",
     "output_type": "stream",
     "text": [
      "Creating index dataloader-test-1 and embeddings ...Done\n"
     ]
    }
   ],
   "source": [
    "index_name='dataloader-test-1'\n",
    "chunks = chunks\n",
    "namespace = \"docxs_documents\"\n",
    "\n",
    "vector_store = load_or_create_embeddings_index(index_name=index_name, chunks=chunks, namespace=namespace)"
   ]
  },
  {
   "cell_type": "markdown",
   "metadata": {},
   "source": [
    "5. Delete your index"
   ]
  },
  {
   "cell_type": "code",
   "execution_count": null,
   "metadata": {},
   "outputs": [],
   "source": [
    "# Delete vector store \n",
    "index_name='pipelinetest-4'\n",
    "delete_index_with_same_name(index_name)"
   ]
  },
  {
   "cell_type": "markdown",
   "metadata": {},
   "source": [
    "6. Generate answer without context - simple answer\n",
    "- https://github.com/atef-ataya/LangChain-Tutorial/blob/master/Building%20QA%20application%20using%20OpenAI%2C%20Pinecone%2C%20and%20LangChain.ipynb"
   ]
  },
  {
   "cell_type": "code",
   "execution_count": null,
   "metadata": {},
   "outputs": [],
   "source": [
    "# Q&A Chat Function \n",
    "def generate_answer_from_vector_store(vector_store, question):\n",
    "    from langchain.chains import RetrievalQA\n",
    "    from langchain_openai import ChatOpenAI\n",
    "\n",
    "    llm = ChatOpenAI(model='gpt-4-turbo', temperature=1)\n",
    "    retriever = vector_store.as_retriever(search_type='similarity', search_kwargs={'k':3})\n",
    "    chain = RetrievalQA.from_chain_type(llm=llm, chain_type=\"stuff\", retriever=retriever)\n",
    "    answer = chain.invoke(question)\n",
    "    \n",
    "    return answer"
   ]
  },
  {
   "cell_type": "markdown",
   "metadata": {},
   "source": [
    "7. Set up a chain for having a conversation based on retrieved documents.\n",
    "- https://api.python.langchain.com/en/latest/chains/langchain.chains.conversational_retrieval.base.ConversationalRetrievalChain.html#langchain.chains.conversational_retrieval.base.ConversationalRetrievalChain\n",
    "- https://github.com/atef-ataya/LangChain-Tutorial/blob/master/Building%20QA%20application%20using%20OpenAI%2C%20Pinecone%2C%20and%20LangChain.ipynb"
   ]
  },
  {
   "cell_type": "code",
   "execution_count": 6,
   "metadata": {},
   "outputs": [],
   "source": [
    "# Creating Conversation Logic and ChatHistory\n",
    "def conduct_conversation_with_context(vector_store, question, chat_history=[]):\n",
    "    from langchain.chains import ConversationalRetrievalChain\n",
    "    from langchain_openai import ChatOpenAI\n",
    "    \n",
    "    llm = ChatOpenAI(temperature=1)\n",
    "    retriever = vector_store.as_retriever(search_type='similarity', search_kwargs={'k':3})\n",
    "    \n",
    "    crc = ConversationalRetrievalChain.from_llm(llm, retriever)\n",
    "    \n",
    "    result = crc.invoke({'question': question, 'chat_history': chat_history})\n",
    "    chat_history.append((question, result['answer']))\n",
    "    \n",
    "    return result, chat_history"
   ]
  },
  {
   "cell_type": "markdown",
   "metadata": {},
   "source": [
    "8. This does something with LangSmith trace\n",
    "https://docs.smith.langchain.com/tracing"
   ]
  },
  {
   "cell_type": "code",
   "execution_count": null,
   "metadata": {},
   "outputs": [],
   "source": [
    "# LangSmith Trace\n",
    "\n",
    "os.environ['LANGCHAIN_TRACING_V2'] = 'true'\n",
    "os.environ['LANGCHAIN_ENDPOINT'] = 'https://api.smith.langchain.com'\n",
    "os.environ['LANGCHAIN_API_KEY'] = os.environ['LANGCHAIN_API_KEY']"
   ]
  },
  {
   "cell_type": "markdown",
   "metadata": {},
   "source": [
    "9. Chat with your database to test"
   ]
  },
  {
   "cell_type": "code",
   "execution_count": 7,
   "metadata": {},
   "outputs": [
    {
     "name": "stdout",
     "output_type": "stream",
     "text": [
      "Trasaterra is a New York City-based design studio that specializes in branding, comprehensive design services, web design, and development. They focus on crafting transformative creative solutions for clients in various industries such as media, art, finance, non-profit, and technology by leveraging authenticity in branding and design expertise. Trasaterra provides services like logos, naming, brand books, identity systems, infographics, iconography, presentation design, social media graphics, motion graphics, website design, website development, user experience, e-commerce, email campaigns, site maintenance, and SEO.\n",
      "[('What is Trasaterra?', 'Trasaterra is a New York City-based design studio that specializes in branding, comprehensive design services, web design, and development. They focus on crafting transformative creative solutions for clients in various industries such as media, art, finance, non-profit, and technology by leveraging authenticity in branding and design expertise. Trasaterra provides services like logos, naming, brand books, identity systems, infographics, iconography, presentation design, social media graphics, motion graphics, website design, website development, user experience, e-commerce, email campaigns, site maintenance, and SEO.')]\n"
     ]
    }
   ],
   "source": [
    "chat_history = []\n",
    "question = \"What is Trasaterra?\"\n",
    "result, chat_history = conduct_conversation_with_context(vector_store, question, chat_history)\n",
    "print(result['answer'])\n",
    "print(chat_history)"
   ]
  },
  {
   "cell_type": "markdown",
   "metadata": {},
   "source": []
  },
  {
   "cell_type": "code",
   "execution_count": 8,
   "metadata": {},
   "outputs": [
    {
     "name": "stdout",
     "output_type": "stream",
     "text": [
      "No, Trasaterra is not a marketing company. It is a design agency that specializes in branding, comprehensive design services, web design, and development. Content creation can also be included as a component of its core offerings when necessary.\n",
      "[('Is Trasaterra a marketing company?', 'No, Trasaterra is not a marketing company. It is a design agency that specializes in branding, comprehensive design services, web design, and development. Content creation can also be included as a component of its core offerings when necessary.')]\n"
     ]
    }
   ],
   "source": [
    "chat_history = []\n",
    "question = \"Is Trasaterra a marketing company?\"\n",
    "result, chat_history = conduct_conversation_with_context(vector_store, question, chat_history)\n",
    "print(result['answer'])\n",
    "print(chat_history)"
   ]
  },
  {
   "cell_type": "code",
   "execution_count": null,
   "metadata": {},
   "outputs": [],
   "source": [
    "# Q&A Chat Function \n"
   ]
  }
 ],
 "metadata": {
  "kernelspec": {
   "display_name": "trasbotv0.1_env",
   "language": "python",
   "name": "python3"
  },
  "language_info": {
   "codemirror_mode": {
    "name": "ipython",
    "version": 3
   },
   "file_extension": ".py",
   "mimetype": "text/x-python",
   "name": "python",
   "nbconvert_exporter": "python",
   "pygments_lexer": "ipython3",
   "version": "3.11.8"
  }
 },
 "nbformat": 4,
 "nbformat_minor": 2
}
